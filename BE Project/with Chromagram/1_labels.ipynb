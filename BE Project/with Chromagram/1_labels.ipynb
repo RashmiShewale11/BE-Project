{
 "cells": [
  {
   "cell_type": "code",
   "execution_count": 1,
   "metadata": {},
   "outputs": [],
   "source": [
    "import re"
   ]
  },
  {
   "cell_type": "code",
   "execution_count": 2,
   "metadata": {},
   "outputs": [],
   "source": [
    "file_path = '/home/rashmi/Dataset/IEMOCAP_full_release/Session5/dialog/EmoEvaluation/Ses05F_impro01.txt'"
   ]
  },
  {
   "cell_type": "code",
   "execution_count": 3,
   "metadata": {},
   "outputs": [],
   "source": [
    "useful_regex = re.compile(r'\\[.+\\]\\n', re.IGNORECASE)"
   ]
  },
  {
   "cell_type": "code",
   "execution_count": 4,
   "metadata": {},
   "outputs": [],
   "source": [
    "with open(file_path) as f:\n",
    "    file_content = f.read()\n",
    "    \n",
    "info_lines = re.findall(useful_regex, file_content)"
   ]
  },
  {
   "cell_type": "code",
   "execution_count": 5,
   "metadata": {},
   "outputs": [
    {
     "name": "stdout",
     "output_type": "stream",
     "text": [
      "['[3.6132 - 6.1700]', 'Ses05F_impro01_F000', 'neu', '[4.0000, 2.5000, 3.0000]']\n",
      "['[14.1500 - 19.4900]', 'Ses05F_impro01_F001', 'fru', '[2.5000, 3.0000, 3.0000]']\n",
      "['[22.8500 - 26.9000]', 'Ses05F_impro01_F002', 'fru', '[2.5000, 3.0000, 3.5000]']\n",
      "['[29.9800 - 34.4600]', 'Ses05F_impro01_F003', 'fru', '[2.5000, 3.0000, 3.0000]']\n",
      "['[39.4800 - 42.1800]', 'Ses05F_impro01_F004', 'fru', '[2.5000, 3.5000, 3.0000]']\n",
      "['[42.8400 - 45.7800]', 'Ses05F_impro01_F005', 'fru', '[2.5000, 3.5000, 3.0000]']\n",
      "['[46.8200 - 53.7400]', 'Ses05F_impro01_F006', 'fru', '[2.0000, 3.5000, 4.0000]']\n",
      "['[58.2800 - 65.3300]', 'Ses05F_impro01_F007', 'fru', '[2.0000, 3.5000, 4.0000]']\n",
      "['[65.3400 - 69.5800]', 'Ses05F_impro01_F008', 'neu', '[2.0000, 3.5000, 3.5000]']\n"
     ]
    }
   ],
   "source": [
    "for l in info_lines[1:10]:\n",
    "    print(l.strip().split('\\t'))"
   ]
  },
  {
   "cell_type": "code",
   "execution_count": 6,
   "metadata": {},
   "outputs": [],
   "source": [
    "import re\n",
    "import os\n",
    "\n",
    "\n",
    "info_line = re.compile(r'\\[.+\\]\\n', re.IGNORECASE)\n",
    "\n",
    "start_times, end_times, wav_file_names, emotions, vals, acts, doms = [], [], [], [], [], [], []\n",
    "\n",
    "for sess in [5]:\n",
    "    emo_evaluation_dir = '/home/rashmi/Dataset/IEMOCAP_full_release/Session{}/dialog/EmoEvaluation/'.format(sess)\n",
    "    evaluation_files = [l for l in os.listdir(emo_evaluation_dir) if 'Ses' in l]\n",
    "    for file in evaluation_files:\n",
    "        with open(emo_evaluation_dir + file, encoding=\"utf8\", errors='ignore') as f:\n",
    "            content = f.read()\n",
    "        info_lines = re.findall(info_line, content)\n",
    "        for line in info_lines[1:]:  # the first line is a header\n",
    "            start_end_time, wav_file_name, emotion, val_act_dom = line.strip().split('\\t')\n",
    "            start_time, end_time = start_end_time[1:-1].split('-')\n",
    "            val, act, dom = val_act_dom[1:-1].split(',')\n",
    "            val, act, dom = float(val), float(act), float(dom)\n",
    "            start_time, end_time = float(start_time), float(end_time)\n",
    "            start_times.append(start_time)\n",
    "            end_times.append(end_time)\n",
    "            wav_file_names.append(wav_file_name)\n",
    "            emotions.append(emotion)\n",
    "            vals.append(val)\n",
    "            acts.append(act)\n",
    "            doms.append(dom)\n"
   ]
  },
  {
   "cell_type": "code",
   "execution_count": 7,
   "metadata": {},
   "outputs": [
    {
     "data": {
      "text/html": [
       "<div>\n",
       "<style scoped>\n",
       "    .dataframe tbody tr th:only-of-type {\n",
       "        vertical-align: middle;\n",
       "    }\n",
       "\n",
       "    .dataframe tbody tr th {\n",
       "        vertical-align: top;\n",
       "    }\n",
       "\n",
       "    .dataframe thead th {\n",
       "        text-align: right;\n",
       "    }\n",
       "</style>\n",
       "<table border=\"1\" class=\"dataframe\">\n",
       "  <thead>\n",
       "    <tr style=\"text-align: right;\">\n",
       "      <th></th>\n",
       "      <th>start_time</th>\n",
       "      <th>end_time</th>\n",
       "      <th>wav_file</th>\n",
       "      <th>emotion</th>\n",
       "      <th>val</th>\n",
       "      <th>act</th>\n",
       "      <th>dom</th>\n",
       "    </tr>\n",
       "  </thead>\n",
       "  <tbody>\n",
       "    <tr>\n",
       "      <td>2165</td>\n",
       "      <td>215.40</td>\n",
       "      <td>220.75</td>\n",
       "      <td>Ses05M_script03_1_M030</td>\n",
       "      <td>exc</td>\n",
       "      <td>4.5</td>\n",
       "      <td>4.5</td>\n",
       "      <td>3.5</td>\n",
       "    </tr>\n",
       "    <tr>\n",
       "      <td>2166</td>\n",
       "      <td>221.13</td>\n",
       "      <td>223.83</td>\n",
       "      <td>Ses05M_script03_1_M031</td>\n",
       "      <td>exc</td>\n",
       "      <td>2.5</td>\n",
       "      <td>3.5</td>\n",
       "      <td>3.5</td>\n",
       "    </tr>\n",
       "    <tr>\n",
       "      <td>2167</td>\n",
       "      <td>229.88</td>\n",
       "      <td>233.06</td>\n",
       "      <td>Ses05M_script03_1_M032</td>\n",
       "      <td>exc</td>\n",
       "      <td>4.5</td>\n",
       "      <td>4.5</td>\n",
       "      <td>4.5</td>\n",
       "    </tr>\n",
       "    <tr>\n",
       "      <td>2168</td>\n",
       "      <td>234.14</td>\n",
       "      <td>236.66</td>\n",
       "      <td>Ses05M_script03_1_M033</td>\n",
       "      <td>exc</td>\n",
       "      <td>4.0</td>\n",
       "      <td>3.0</td>\n",
       "      <td>3.5</td>\n",
       "    </tr>\n",
       "    <tr>\n",
       "      <td>2169</td>\n",
       "      <td>238.73</td>\n",
       "      <td>245.38</td>\n",
       "      <td>Ses05M_script03_1_M034</td>\n",
       "      <td>xxx</td>\n",
       "      <td>3.0</td>\n",
       "      <td>4.0</td>\n",
       "      <td>4.0</td>\n",
       "    </tr>\n",
       "  </tbody>\n",
       "</table>\n",
       "</div>"
      ],
      "text/plain": [
       "      start_time  end_time                wav_file emotion  val  act  dom\n",
       "2165      215.40    220.75  Ses05M_script03_1_M030     exc  4.5  4.5  3.5\n",
       "2166      221.13    223.83  Ses05M_script03_1_M031     exc  2.5  3.5  3.5\n",
       "2167      229.88    233.06  Ses05M_script03_1_M032     exc  4.5  4.5  4.5\n",
       "2168      234.14    236.66  Ses05M_script03_1_M033     exc  4.0  3.0  3.5\n",
       "2169      238.73    245.38  Ses05M_script03_1_M034     xxx  3.0  4.0  4.0"
      ]
     },
     "execution_count": 7,
     "metadata": {},
     "output_type": "execute_result"
    }
   ],
   "source": [
    "import pandas as pd\n",
    "\n",
    "df_iemocap = pd.DataFrame(columns=['start_time', 'end_time', 'wav_file', 'emotion', 'val', 'act', 'dom'])\n",
    "\n",
    "df_iemocap['start_time'] = start_times\n",
    "df_iemocap['end_time'] = end_times\n",
    "df_iemocap['wav_file'] = wav_file_names\n",
    "df_iemocap['emotion'] = emotions\n",
    "df_iemocap['val'] = vals\n",
    "df_iemocap['act'] = acts\n",
    "df_iemocap['dom'] = doms\n",
    "\n",
    "df_iemocap.tail()"
   ]
  },
  {
   "cell_type": "code",
   "execution_count": 8,
   "metadata": {},
   "outputs": [],
   "source": [
    "df_iemocap.to_csv('/home/rashmi/Dataset/pre-processed-chromagram/df_iemocap.csv', index=False)"
   ]
  },
  {
   "cell_type": "code",
   "execution_count": null,
   "metadata": {},
   "outputs": [],
   "source": []
  }
 ],
 "metadata": {
  "kernelspec": {
   "display_name": "Python 3",
   "language": "python",
   "name": "python3"
  },
  "language_info": {
   "codemirror_mode": {
    "name": "ipython",
    "version": 3
   },
   "file_extension": ".py",
   "mimetype": "text/x-python",
   "name": "python",
   "nbconvert_exporter": "python",
   "pygments_lexer": "ipython3",
   "version": "3.7.4"
  }
 },
 "nbformat": 4,
 "nbformat_minor": 2
}
