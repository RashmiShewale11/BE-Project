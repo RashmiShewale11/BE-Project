{
 "cells": [
  {
   "cell_type": "code",
   "execution_count": 6,
   "metadata": {},
   "outputs": [],
   "source": [
    "import librosa                          #for loading music and audio analysis\n",
    "import os\n",
    "import soundfile as sf                  #read and write sound files\n",
    "import numpy as np\n",
    "import matplotlib.pyplot as plt        #work like matlab\n",
    "import matplotlib.style as ms\n",
    "from tqdm import tqdm                  #progress \n",
    "import pickle                       #python object serialization\n",
    "\n",
    "import IPython.display              #display python object in all front ends\n",
    "import librosa.display              #\n",
    "ms.use('seaborn-muted')             #seaborn-muted is style\n",
    "import pandas as pd\n",
    "%matplotlib inline  \n",
    "import wave\n",
    "import contextlib"
   ]
  },
  {
   "cell_type": "code",
   "execution_count": 7,
   "metadata": {},
   "outputs": [],
   "source": [
    "columns = ['wav_file','start_time','end_time','label']\n",
    "df_time = pd.DataFrame(columns=columns)\n",
    "time_list = []"
   ]
  },
  {
   "cell_type": "code",
   "execution_count": 8,
   "metadata": {},
   "outputs": [
    {
     "name": "stderr",
     "output_type": "stream",
     "text": [
      "100%|██████████| 5/5 [00:00<00:00, 181.73it/s]\n"
     ]
    }
   ],
   "source": [
    "wav_file_path = '/home/rashmi/Dataset/single_file/wav/'\n",
    "orig_wav_files = os.listdir(wav_file_path)\n",
    "for orig_wav_file in tqdm(orig_wav_files):\n",
    "        try:\n",
    "            fname = wav_file_path + orig_wav_file;\n",
    "            with contextlib.closing(wave.open(fname,'r')) as f:\n",
    "                frames = f.getnframes()\n",
    "                rate = f.getframerate()\n",
    "                duration = frames / float(rate)\n",
    "                time_list = [orig_wav_file,'0',duration,'']\n",
    "                \n",
    "                df_time = df_time.append(pd.DataFrame(time_list, index=columns).transpose(), ignore_index=True)\n",
    "                \n",
    "        except:\n",
    "            print('An exception occured for {}'.format(orig_wav_file))\n",
    "\n",
    "df_time.to_csv('/home/rashmi/Dataset/single_file/pre-processed/time_slot.csv', index=False)"
   ]
  },
  {
   "cell_type": "code",
   "execution_count": 56,
   "metadata": {},
   "outputs": [],
   "source": []
  },
  {
   "cell_type": "code",
   "execution_count": null,
   "metadata": {},
   "outputs": [],
   "source": []
  }
 ],
 "metadata": {
  "kernelspec": {
   "display_name": "Python 3",
   "language": "python",
   "name": "python3"
  },
  "language_info": {
   "codemirror_mode": {
    "name": "ipython",
    "version": 3
   },
   "file_extension": ".py",
   "mimetype": "text/x-python",
   "name": "python",
   "nbconvert_exporter": "python",
   "pygments_lexer": "ipython3",
   "version": "3.7.4"
  }
 },
 "nbformat": 4,
 "nbformat_minor": 2
}
