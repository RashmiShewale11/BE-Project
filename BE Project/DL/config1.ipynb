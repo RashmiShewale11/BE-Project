{
 "cells": [
  {
   "cell_type": "code",
   "execution_count": 1,
   "metadata": {},
   "outputs": [],
   "source": [
    "model_config = {\n",
    "    'gpu': 0,\n",
    "    'bidirectional': False,\n",
    "    'input_dim': 8,\n",
    "    'hidden_dim': 50,\n",
    "    'output_dim': 6,  # number of classes\n",
    "    'dropout': 0.2,\n",
    "    'learning_rate': 0.01,\n",
    "    'batch_size': 1567,  # carefully chosen\n",
    "    'n_epochs': 55000,\n",
    "    'n_layers': 2,\n",
    "    'model_code': 'basic_lstm'\n",
    "}\n"
   ]
  },
  {
   "cell_type": "code",
   "execution_count": null,
   "metadata": {},
   "outputs": [],
   "source": []
  }
 ],
 "metadata": {
  "kernelspec": {
   "display_name": "Python 3",
   "language": "python",
   "name": "python3"
  },
  "language_info": {
   "codemirror_mode": {
    "name": "ipython",
    "version": 3
   },
   "file_extension": ".py",
   "mimetype": "text/x-python",
   "name": "python",
   "nbconvert_exporter": "python",
   "pygments_lexer": "ipython3",
   "version": "3.7.4"
  }
 },
 "nbformat": 4,
 "nbformat_minor": 2
}
