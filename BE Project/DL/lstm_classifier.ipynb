{
 "cells": [
  {
   "cell_type": "code",
   "execution_count": 60,
   "metadata": {},
   "outputs": [],
   "source": [
    "import torch\n",
    "import sys\n",
    "import pickle\n",
    "import numpy as np\n",
    "import torch.nn as nn\n",
    "from torch import optim\n",
    "import torch.nn.functional as F\n",
    "import import_ipynb\n",
    "from utils import load_data, evaluate, plot_confusion_matrix\n",
    "from config1 import model_config as config\n"
   ]
  },
  {
   "cell_type": "code",
   "execution_count": 61,
   "metadata": {},
   "outputs": [
    {
     "name": "stdout",
     "output_type": "stream",
     "text": [
      "{'gpu': 0, 'bidirectional': False, 'input_dim': 8, 'hidden_dim': 50, 'output_dim': 6, 'dropout': 0.2, 'learning_rate': 0.01, 'batch_size': 1567, 'n_epochs': 55000, 'n_layers': 2, 'model_code': 'basic_lstm'}\n"
     ]
    }
   ],
   "source": [
    "print(config)"
   ]
  },
  {
   "cell_type": "code",
   "execution_count": 58,
   "metadata": {},
   "outputs": [],
   "source": [
    "class LSTMClassifier(nn.Module):\n",
    "    \"\"\"docstring for LSTMClassifier\"\"\"\n",
    "    def __init__(self, config):\n",
    "        super(LSTMClassifier, self).__init__()\n",
    "        self.n_layers = config['n_layers']\n",
    "        self.input_dim = config['input_dim']\n",
    "        self.hidden_dim = config['hidden_dim']\n",
    "        self.output_dim = config['output_dim']\n",
    "        self.bidirectional = config['bidirectional']\n",
    "        self.dropout = config['dropout'] if self.n_layers > 1 else 0\n",
    "\n",
    "        self.rnn = nn.LSTM(self.input_dim, self.hidden_dim, bias=True,\n",
    "                           num_layers=2, dropout=self.dropout,\n",
    "                           bidirectional=self.bidirectional)\n",
    "        self.out = nn.Linear(self.hidden_dim, self.output_dim)\n",
    "        self.softmax = F.softmax\n",
    "\n",
    "    def forward(self, input_seq):\n",
    "        # input_seq =. [1, batch_size, input_size]\n",
    "        rnn_output, (hidden, _) = self.rnn(input_seq)\n",
    "        if self.bidirectional:  # sum outputs from the two directions\n",
    "            rnn_output = rnn_output[:, :, :self.hidden_dim] +\\\n",
    "                        rnn_output[:, :, self.hidden_dim:]\n",
    "        class_scores = F.softmax(self.out(rnn_output[0]), dim=1)\n",
    "        return class_scores\n"
   ]
  },
  {
   "cell_type": "code",
   "execution_count": 59,
   "metadata": {},
   "outputs": [
    {
     "ename": "ValueError",
     "evalue": "too many dimensions 'str'",
     "output_type": "error",
     "traceback": [
      "\u001b[0;31m---------------------------------------------------------------------------\u001b[0m",
      "\u001b[0;31mValueError\u001b[0m                                Traceback (most recent call last)",
      "\u001b[0;32m<ipython-input-59-204a15890e97>\u001b[0m in \u001b[0;36m<module>\u001b[0;34m\u001b[0m\n\u001b[1;32m     10\u001b[0m     \u001b[0moptimizer\u001b[0m \u001b[0;34m=\u001b[0m \u001b[0moptim\u001b[0m\u001b[0;34m.\u001b[0m\u001b[0mAdam\u001b[0m\u001b[0;34m(\u001b[0m\u001b[0mmodel\u001b[0m\u001b[0;34m.\u001b[0m\u001b[0mparameters\u001b[0m\u001b[0;34m(\u001b[0m\u001b[0;34m)\u001b[0m\u001b[0;34m,\u001b[0m \u001b[0mlr\u001b[0m\u001b[0;34m=\u001b[0m\u001b[0mconfig\u001b[0m\u001b[0;34m[\u001b[0m\u001b[0;34m'learning_rate'\u001b[0m\u001b[0;34m]\u001b[0m\u001b[0;34m)\u001b[0m\u001b[0;34m\u001b[0m\u001b[0;34m\u001b[0m\u001b[0m\n\u001b[1;32m     11\u001b[0m \u001b[0;34m\u001b[0m\u001b[0m\n\u001b[0;32m---> 12\u001b[0;31m     \u001b[0mtrain_batches\u001b[0m \u001b[0;34m=\u001b[0m \u001b[0mload_data\u001b[0m\u001b[0;34m(\u001b[0m\u001b[0;34m)\u001b[0m\u001b[0;34m\u001b[0m\u001b[0;34m\u001b[0m\u001b[0m\n\u001b[0m\u001b[1;32m     13\u001b[0m     \u001b[0mtest_pairs\u001b[0m \u001b[0;34m=\u001b[0m \u001b[0mload_data\u001b[0m\u001b[0;34m(\u001b[0m\u001b[0mtest\u001b[0m\u001b[0;34m=\u001b[0m\u001b[0;32mTrue\u001b[0m\u001b[0;34m)\u001b[0m\u001b[0;34m\u001b[0m\u001b[0;34m\u001b[0m\u001b[0m\n\u001b[1;32m     14\u001b[0m \u001b[0;34m\u001b[0m\u001b[0m\n",
      "\u001b[0;32m~/BE Project/DL/utils.ipynb\u001b[0m in \u001b[0;36mload_data\u001b[0;34m(batched, test, file_dir)\u001b[0m\n",
      "\u001b[0;31mValueError\u001b[0m: too many dimensions 'str'"
     ]
    }
   ],
   "source": [
    "if __name__ == '__main__':\n",
    "    emotion_dict = {'ang': 0, 'hap': 1, 'sad': 2, 'fea': 3, 'sur': 4, 'neu': 5}\n",
    "\n",
    "    device = 'cuda:{}'.format(config['gpu']) if \\\n",
    "             torch.cuda.is_available() else 'cpu'\n",
    "\n",
    "    model = LSTMClassifier(config)\n",
    "    model = model.to(device)\n",
    "    criterion = nn.CrossEntropyLoss()\n",
    "    optimizer = optim.Adam(model.parameters(), lr=config['learning_rate'])\n",
    "\n",
    "    train_batches = load_data()\n",
    "    test_pairs = load_data(test=True)\n",
    "\n",
    "    best_acc = 0\n",
    "    for epoch in range(config['n_epochs']):\n",
    "        losses = []\n",
    "        for batch in train_batches:\n",
    "            inputs = batch[0].unsqueeze(0)  # frame in format as expected by model\n",
    "            targets = batch[1]\n",
    "            inputs = inputs.to(device)\n",
    "            targets = targets.to(device)\n",
    "\n",
    "            model.zero_grad()\n",
    "            optimizer.zero_grad()\n",
    "\n",
    "            predictions = model(inputs)\n",
    "            predictions = predictions.to(device)\n",
    "\n",
    "            loss = criterion(predictions, targets)\n",
    "            loss.backward()\n",
    "            optimizer.step()\n",
    "            losses.append(loss.item())\n",
    "\n",
    "        # evaluate\n",
    "        with torch.no_grad():\n",
    "            inputs = test_pairs[0].unsqueeze(0)\n",
    "            targets = test_pairs[1]\n",
    "\n",
    "            inputs = inputs.to(device)\n",
    "            targets = targets.to(device)\n",
    "\n",
    "            predictions = torch.argmax(model(inputs), dim=1)  # take argmax to get class id\n",
    "            predictions = predictions.to(device)\n",
    "\n",
    "            # evaluate on cpu\n",
    "            targets = np.array(targets.cpu())\n",
    "            predictions = np.array(predictions.cpu())\n",
    "\n",
    "            # Get results\n",
    "            # plot_confusion_matrix(targets, predictions,\n",
    "            #                       classes=emotion_dict.keys())\n",
    "            performance = evaluate(targets, predictions)\n",
    "            if performance['acc'] > best_acc:\n",
    "                best_acc = performance['acc']\n",
    "                print(performance)\n",
    "                # save model and results\n",
    "                torch.save({\n",
    "                    'model': model.state_dict(),\n",
    "                    'optimizer': optimizer.state_dict()\n",
    "                    }, 'runs/{}-best_model.pth'.format(config['model_code']))\n",
    "\n",
    "                with open('results/{}-best_performance.pkl'.format(config['model_code']), 'wb') as f:\n",
    "                    pickle.dump(performance, f)\n"
   ]
  },
  {
   "cell_type": "code",
   "execution_count": null,
   "metadata": {},
   "outputs": [],
   "source": []
  }
 ],
 "metadata": {
  "kernelspec": {
   "display_name": "Python 3",
   "language": "python",
   "name": "python3"
  },
  "language_info": {
   "codemirror_mode": {
    "name": "ipython",
    "version": 3
   },
   "file_extension": ".py",
   "mimetype": "text/x-python",
   "name": "python",
   "nbconvert_exporter": "python",
   "pygments_lexer": "ipython3",
   "version": "3.7.4"
  }
 },
 "nbformat": 4,
 "nbformat_minor": 2
}
