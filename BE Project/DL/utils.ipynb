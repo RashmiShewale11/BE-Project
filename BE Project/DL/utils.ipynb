{
 "cells": [
  {
   "cell_type": "code",
   "execution_count": 49,
   "metadata": {},
   "outputs": [],
   "source": [
    "import torch\n",
    "import numpy as np\n",
    "import pandas as pd\n",
    "import import_ipynb\n",
    "from config1 import model_config as config\n",
    "from sklearn.model_selection import train_test_split\n",
    "\n",
    "from sklearn.metrics import confusion_matrix, accuracy_score, f1_score, precision_score, recall_score\n",
    "\n",
    "import itertools\n",
    "import matplotlib.pyplot as plt"
   ]
  },
  {
   "cell_type": "code",
   "execution_count": 50,
   "metadata": {},
   "outputs": [
    {
     "name": "stdout",
     "output_type": "stream",
     "text": [
      "(1704, 11) (426, 11)\n"
     ]
    }
   ],
   "source": [
    "df = pd.read_csv('/home/rashmi/BE Project/DL/data/s2e/modified_df.csv')\n",
    "\n",
    "x_train, x_test = train_test_split(df, test_size=0.20)\n",
    "\n",
    "x_train.to_csv('/home/rashmi/BE Project/DL/data/s2e/modified_df_train.csv', index=False)\n",
    "x_test.to_csv('/home/rashmi/BE Project/DL/data/s2e/modified_df_test.csv', index=False)\n",
    "\n",
    "print(x_train.shape, x_test.shape)"
   ]
  },
  {
   "cell_type": "code",
   "execution_count": 51,
   "metadata": {},
   "outputs": [],
   "source": [
    "def load_data(batched=True, test=False, file_dir='/home/rashmi/BE Project/DL/data/s2e/'):\n",
    "    bs = config['batch_size']\n",
    "    ftype = 'test' if test else 'train'\n",
    "    df = pd.read_csv('{}modified_df_{}.csv'.format(file_dir, ftype))\n",
    "    # 0th index in label, rest all are features\n",
    "    print(df)\n",
    "    data = (np.array(df[df.columns[2:]]), np.array(df[df.columns[0]]))\n",
    "    if test or not batched:\n",
    "        return [torch.FloatTensor(data[0]), torch.LongTensor(data[1])]\n",
    "    data = list(zip(data[0], data[1]))\n",
    "    n_iters = len(data) // bs\n",
    "    batches = []\n",
    "    for i in range(1, n_iters + 1):\n",
    "        input_batch = []\n",
    "        output_batch = []\n",
    "        for e in data[bs * (i-1):bs * i]:\n",
    "            input_batch.append(e[0])\n",
    "            output_batch.append(e[1])\n",
    "        batches.append([torch.FloatTensor(input_batch),\n",
    "                        torch.LongTensor(output_batch)])\n",
    "    return batches\n"
   ]
  },
  {
   "cell_type": "code",
   "execution_count": 52,
   "metadata": {},
   "outputs": [],
   "source": [
    "\n",
    "def evaluate(targets, predictions):\n",
    "    performance = {\n",
    "        'acc': accuracy_score(targets, predictions),\n",
    "        'f1': f1_score(targets, predictions, average='macro'),\n",
    "        'precision': precision_score(targets, predictions, average='macro'),\n",
    "        'recall': recall_score(targets, predictions, average='macro')}\n",
    "    return performance"
   ]
  },
  {
   "cell_type": "code",
   "execution_count": 53,
   "metadata": {},
   "outputs": [],
   "source": [
    "def plot_confusion_matrix(targets, predictions, classes,\n",
    "                          normalize=False,\n",
    "                          title='Confusion matrix',\n",
    "                          cmap=plt.cm.Blues):\n",
    "    \"\"\"\n",
    "    This function prints and plots the confusion matrix.\n",
    "    Normalization can be applied by setting `normalize=True`.\n",
    "    \"\"\"\n",
    "    #plt.figure(figsize=(8,8))\n",
    "    cm = confusion_matrix(targets, predictions)\n",
    "    plt.imshow(cm, interpolation='nearest', cmap=cmap)\n",
    "    plt.title(title)\n",
    "    plt.colorbar()\n",
    "    tick_marks = np.arange(len(classes))\n",
    "    plt.xticks(tick_marks, classes, rotation=45)\n",
    "    plt.yticks(tick_marks, classes)\n",
    "\n",
    "    if normalize:\n",
    "        cm = cm.astype('float') / cm.sum(axis=1)[:, np.newaxis]\n",
    "        print(\"Normalized confusion matrix\")\n",
    "    else:\n",
    "        print('Confusion matrix, without normalization')\n",
    "\n",
    "    print(cm)\n",
    "\n",
    "    thresh = cm.max() / 2.\n",
    "    for i, j in itertools.product(range(cm.shape[0]), range(cm.shape[1])):\n",
    "        plt.text(j, i, cm[i, j],\n",
    "                 horizontalalignment=\"center\",\n",
    "                 color=\"white\" if cm[i, j] > thresh else \"black\")\n",
    "\n",
    "    plt.tight_layout()\n",
    "    plt.ylabel('True label')\n",
    "    plt.xlabel('Predicted label')\n"
   ]
  },
  {
   "cell_type": "code",
   "execution_count": null,
   "metadata": {},
   "outputs": [],
   "source": []
  }
 ],
 "metadata": {
  "kernelspec": {
   "display_name": "Python 3",
   "language": "python",
   "name": "python3"
  },
  "language_info": {
   "codemirror_mode": {
    "name": "ipython",
    "version": 3
   },
   "file_extension": ".py",
   "mimetype": "text/x-python",
   "name": "python",
   "nbconvert_exporter": "python",
   "pygments_lexer": "ipython3",
   "version": "3.7.4"
  }
 },
 "nbformat": 4,
 "nbformat_minor": 2
}
