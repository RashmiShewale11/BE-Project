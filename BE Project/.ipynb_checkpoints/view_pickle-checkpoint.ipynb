{
 "cells": [
  {
   "cell_type": "code",
   "execution_count": 2,
   "metadata": {},
   "outputs": [
    {
     "name": "stdout",
     "output_type": "stream",
     "text": [
      "Showing the pickled data:\n",
      "VotingClassifier(estimators=[('rf',\n",
      "                              RandomForestClassifier(bootstrap=True,\n",
      "                                                     class_weight=None,\n",
      "                                                     criterion='gini',\n",
      "                                                     max_depth=None,\n",
      "                                                     max_features='auto',\n",
      "                                                     max_leaf_nodes=None,\n",
      "                                                     min_impurity_decrease=0.0,\n",
      "                                                     min_impurity_split=None,\n",
      "                                                     min_samples_leaf=1,\n",
      "                                                     min_samples_split=25,\n",
      "                                                     min_weight_fraction_leaf=0.0,\n",
      "                                                     n_estimators=1200,\n",
      "                                                     n_jobs=None,\n",
      "                                                     oob_score=False,\n",
      "                                                     random_state=None,\n",
      "                                                     verb...\n",
      "                                            min_child_weight=1, missing=nan,\n",
      "                                            n_estimators=1200, n_jobs=4,\n",
      "                                            nthread=None, num_class=6,\n",
      "                                            objective='multi:softprob',\n",
      "                                            random_state=0, reg_alpha=0,\n",
      "                                            reg_lambda=1, scale_pos_weight=1,\n",
      "                                            seed=None, silent=None,\n",
      "                                            sub_sample=0.8, subsample=1,\n",
      "                                            verbosity=1)),\n",
      "                             ('mnb',\n",
      "                              MultinomialNB(alpha=1.0, class_prior=None,\n",
      "                                            fit_prior=True))],\n",
      "                 flatten_transform=True, n_jobs=None, voting='soft',\n",
      "                 weights=None)\n"
     ]
    }
   ],
   "source": [
    "import pickle\n",
    "file = open('/home/rashmi/BE Project/with MfCC/pred_probas/ensemble_mfcc.pkl', 'rb')\n",
    "\n",
    "# dump information to that file\n",
    "data = pickle.load(file)\n",
    "\n",
    "file.close()\n",
    "\n",
    "print('Showing the pickled data:')\n",
    "\n",
    "print(data)"
   ]
  },
  {
   "cell_type": "code",
   "execution_count": null,
   "metadata": {},
   "outputs": [],
   "source": []
  }
 ],
 "metadata": {
  "kernelspec": {
   "display_name": "Python 3",
   "language": "python",
   "name": "python3"
  },
  "language_info": {
   "codemirror_mode": {
    "name": "ipython",
    "version": 3
   },
   "file_extension": ".py",
   "mimetype": "text/x-python",
   "name": "python",
   "nbconvert_exporter": "python",
   "pygments_lexer": "ipython3",
   "version": "3.7.4"
  }
 },
 "nbformat": 4,
 "nbformat_minor": 2
}
